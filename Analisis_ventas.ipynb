{
  "nbformat": 4,
  "nbformat_minor": 0,
  "metadata": {
    "colab": {
      "provenance": [],
      "authorship_tag": "ABX9TyNUWSeFi7c7AW7oDF51hHY8",
      "include_colab_link": true
    },
    "kernelspec": {
      "name": "python3",
      "display_name": "Python 3"
    },
    "language_info": {
      "name": "python"
    }
  },
  "cells": [
    {
      "cell_type": "markdown",
      "metadata": {
        "id": "view-in-github",
        "colab_type": "text"
      },
      "source": [
        "<a href=\"https://colab.research.google.com/github/Ferclemens/Python-data-analysis/blob/main/Analisis_ventas.ipynb\" target=\"_parent\"><img src=\"https://colab.research.google.com/assets/colab-badge.svg\" alt=\"Open In Colab\"/></a>"
      ]
    },
    {
      "cell_type": "code",
      "execution_count": 3,
      "metadata": {
        "colab": {
          "base_uri": "https://localhost:8080/"
        },
        "id": "mV3_-Y3OIAyI",
        "outputId": "8c33ad50-3925-402b-fef0-273d572ec754"
      },
      "outputs": [
        {
          "output_type": "stream",
          "name": "stdout",
          "text": [
            "Mounted at /content/drive\n"
          ]
        }
      ],
      "source": [
        "#Iniciamos la conexión con Google Drive\n",
        "from google.colab import drive\n",
        "drive.mount('/content/drive')"
      ]
    },
    {
      "cell_type": "code",
      "source": [
        "#Importamos la libreria pandas y os para leer y juntar los datos de las ventas en un solo archivo.\n",
        "import pandas as pd\n",
        "import os\n",
        "\n",
        "#Armamos un array con todos los archivos de ventas mensuales\n",
        "files = [file for file in os.listdir('/content/drive/MyDrive/Data/python-analisis-ventas/data-ventas')]\n",
        "\n",
        "#iniciamos un data frame para guardar los datos de cada mes en uno solo\n",
        "all_months_data = pd.DataFrame()\n",
        "\n",
        "#loop para guardar los datos en el df \"all_months_data\"\n",
        "for file in files:\n",
        "  df = pd.read_csv('/content/drive/MyDrive/Data/python-analisis-ventas/data-ventas/' + file)\n",
        "  all_months_data = pd.concat([all_months_data, df])\n",
        "\n",
        "all_months_data.to_csv('all_data.csv', index=False)"
      ],
      "metadata": {
        "colab": {
          "base_uri": "https://localhost:8080/"
        },
        "id": "-q69FDQhLzTi",
        "outputId": "73b86d8b-70f3-45cb-fca6-9b66f56cc5e1"
      },
      "execution_count": 12,
      "outputs": [
        {
          "output_type": "stream",
          "name": "stdout",
          "text": [
            "['Sales_April_2023.csv', 'Sales_August_2023.csv', 'Sales_December_2023.csv', 'Sales_February_2023.csv', 'Sales_January_2023.csv', 'Sales_July_2023.csv', 'Sales_June_2023.csv', 'Sales_March_2023.csv', 'Sales_May_2023.csv', 'Sales_November_2023.csv', 'Sales_October_2023.csv', 'Sales_September_2023.csv']\n"
          ]
        }
      ]
    }
  ]
}